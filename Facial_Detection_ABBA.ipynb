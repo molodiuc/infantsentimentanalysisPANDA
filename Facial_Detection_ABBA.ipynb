{
  "nbformat": 4,
  "nbformat_minor": 0,
  "metadata": {
    "colab": {
      "name": "Facial Detection ABBA.ipynb",
      "version": "0.3.2",
      "provenance": []
    }
  },
  "cells": [
    {
      "metadata": {
        "id": "MrDW4sEHWGA8",
        "colab_type": "code",
        "colab": {}
      },
      "cell_type": "code",
      "source": [
        "import cv2\n",
        "import sys\n",
        "\n",
        "# Get user supplied values\n",
        "imagePath = sys.argv[1]\n",
        "cascPath = \"haarcascade_frontalface_default.xml\"\n",
        "\n",
        "# Create the haar cascade\n",
        "faceCascade = cv2.CascadeClassifier(\"/anaconda3/pkgs/libopencv-3.4.1-h14a57ad_3/share/OpenCV/haarcascades/haarcascade_frontalface_default.xml\")\n",
        "\n",
        "# Read the image\n",
        "\n",
        "image = cv2.imread(\"/Users/sofielysenko/Desktop/infant_1.jpg\")\n",
        "gray = cv2.cvtColor(image, cv2.COLOR_BGR2GRAY)\n",
        "\n",
        "# Detect faces in the image\n",
        "faces = faceCascade.detectMultiScale(\n",
        "    gray,\n",
        "    scaleFactor=1.1,\n",
        "    minNeighbors=5,\n",
        "    minSize=(30, 30),\n",
        "    flags=cv2.CASCADE_SCALE_IMAGE\n",
        ")\n",
        "\n",
        "print(\"Found {0} faces!\".format(len(faces)))\n",
        "\n",
        "# Draw a rectangle around the faces\n",
        "for (x, y, w, h) in faces:\n",
        "    cv2.rectangle(image, (x, y), (x+w, y+h), (0, 255, 0), 2)\n",
        "\n",
        "cv2.imshow(\"Faces found\", image)\n",
        "# cv2.waitKey(0)"
      ],
      "execution_count": 0,
      "outputs": []
    },
    {
      "metadata": {
        "id": "8cJRqMB6WSa9",
        "colab_type": "code",
        "colab": {}
      },
      "cell_type": "code",
      "source": [
        "new_image = image[]\n",
        "image\n",
        "\n"
      ],
      "execution_count": 0,
      "outputs": []
    },
    {
      "metadata": {
        "id": "1vPOVTzdWTKa",
        "colab_type": "code",
        "colab": {}
      },
      "cell_type": "code",
      "source": [
        "cv2.destroyAllWindows()"
      ],
      "execution_count": 0,
      "outputs": []
    },
    {
      "metadata": {
        "id": "4V2gsA94WV4J",
        "colab_type": "code",
        "colab": {}
      },
      "cell_type": "code",
      "source": [
        "len(image[0]) #columns\n",
        "len(image) #rows of image in dim 1 of array\n",
        "\n",
        "# pseudo code for face detection part \n",
        "\n",
        "for iimage in images:\n",
        "    # run ml stuff\n",
        "    # get image\n",
        "    # crop image\n",
        "    image[y:y+h, x:x+w]\n",
        "    # save image\n",
        "\n",
        "# enter new images into facenet - chainer "
      ],
      "execution_count": 0,
      "outputs": []
    },
    {
      "metadata": {
        "id": "Ta9FEJwlXFIz",
        "colab_type": "code",
        "colab": {}
      },
      "cell_type": "code",
      "source": [
        "import matplotlib.pyplot as plt\n",
        "pad = 30\n",
        "plt.imshow(image[y-pad:y+h+pad, x-pad:x+w+pad])"
      ],
      "execution_count": 0,
      "outputs": []
    },
    {
      "metadata": {
        "id": "xQmhxOzQXFzE",
        "colab_type": "code",
        "colab": {}
      },
      "cell_type": "code",
      "source": [
        "image = cv2.imread(\"/Users/sofielysenko/Desktop/infant_1.jpg\")\n",
        "gray = cv2.cvtColor(image, cv2.COLOR_BGR2GRAY)\n",
        "plt.imshow(gray)\n",
        "\n",
        "# need to make sure input is correct color\n",
        "\n"
      ],
      "execution_count": 0,
      "outputs": []
    },
    {
      "metadata": {
        "id": "eCHQXtxvXH-m",
        "colab_type": "code",
        "colab": {}
      },
      "cell_type": "code",
      "source": [
        "len(image)"
      ],
      "execution_count": 0,
      "outputs": []
    },
    {
      "metadata": {
        "id": "vV19qGtfXL84",
        "colab_type": "code",
        "colab": {}
      },
      "cell_type": "code",
      "source": [
        "len(image[0])"
      ],
      "execution_count": 0,
      "outputs": []
    },
    {
      "metadata": {
        "id": "khnMTIyxWL0P",
        "colab_type": "code",
        "colab": {}
      },
      "cell_type": "code",
      "source": [
        ""
      ],
      "execution_count": 0,
      "outputs": []
    }
  ]
}