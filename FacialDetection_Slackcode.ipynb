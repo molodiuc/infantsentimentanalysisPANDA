{
  "nbformat": 4,
  "nbformat_minor": 0,
  "metadata": {
    "colab": {
      "name": "FacialDetection_Slackcode.ipynb",
      "version": "0.3.2",
      "provenance": []
    },
    "kernelspec": {
      "name": "python3",
      "display_name": "Python 3"
    }
  },
  "cells": [
    {
      "metadata": {
        "id": "HcM25MKatyBQ",
        "colab_type": "code",
        "colab": {}
      },
      "cell_type": "code",
      "source": [
        "import numpy as np\n",
        "import cv2\n",
        "import os\n",
        "import matplotlib.pyplot as plt\n",
        "%matplotlib inline"
      ],
      "execution_count": 0,
      "outputs": []
    },
    {
      "metadata": {
        "id": "ITVKt9wSVrT-",
        "colab_type": "code",
        "colab": {}
      },
      "cell_type": "code",
      "source": [
        "import numpy as np\n",
        "import cv2 as cv\n",
        "\n",
        "face_cascade = cv.CascadeClassifier('/anaconda3/pkgs/libopencv-3.4.1-h0f2e407_1/share/OpenCV/haarcascades/haarcascade_frontalface_default.xml')\n",
        "eye_cascade = cv.CascadeClassifier('/anaconda3/pkgs/libopencv-3.4.1-h0f2e407_1/share/OpenCV/haarcascades/haarcascade_eye.xml')\n",
        "img = cv.imread('/Users/sofielysenko/Desktop/enri1.png')\n",
        "faces = face_cascade.detectMultiScale(gray, 1.3, 5)\n",
        "for (x,y,w,h) in faces:\n",
        "    cv.rectangle(img,(x,y),(x+w,y+h),(255,0,0),2)\n",
        "    roi_gray = gray[y:y+h, x:x+w]\n",
        "    roi_color = img[y:y+h, x:x+w]\n",
        "    eyes = eye_cascade.detectMultiScale(roi_gray)\n",
        "    for (ex,ey,ew,eh) in eyes:\n",
        "        cv.rectangle(roi_color,(ex,ey),(ex+ew,ey+eh),(0,255,0),2)\n",
        "cv.imshow('img',img)\n",
        "k = cv.waitKey(0)\n",
        "if k == 27:         # wait for ESC key to exit\n",
        "    cv.destroyAllWindows()\n",
        "elif k == ord('s'): # wait for 's' key to save and exit\n",
        "    cv.imwrite('messigray.png',img)\n",
        "    cv.destroyAllWindows()\n",
        "\n"
      ],
      "execution_count": 0,
      "outputs": []
    },
    {
      "metadata": {
        "id": "BM9wDGA0Vv5N",
        "colab_type": "text"
      },
      "cell_type": "markdown",
      "source": [
        "This code is producing this error: ---------------------------------------------------------------------------\n",
        "error                                     Traceback (most recent call last)\n",
        "<ipython-input-14-38dff0ec1994> in <module>()\n",
        "      5 eye_cascade = cv.CascadeClassifier('/anaconda3/pkgs/libopencv-3.4.1-h0f2e407_1/share/OpenCV/haarcascades/haarcascade_eye.xml')\n",
        "      6 img = cv.imread('/Users/sofielysenko/Desktop/enri1.png')\n",
        "----> 7 img = cv.cvtColor(img, cv.COLOR_BGR2GRAY)\n",
        "      8 faces = face_cascade.detectMultiScale(gray, 1.3, 5)\n",
        "      9 for (x,y,w,h) in faces:\n",
        "\n",
        "error: OpenCV(3.4.1) /opt/conda/conda-bld/opencv-suite_1530774556719/work/modules/imgproc/src/color.cpp:11147: error: (-215) scn == 3 || scn == 4 in function cvtColor\n",
        "\n",
        "  \n",
        "  "
      ]
    }
  ]
}