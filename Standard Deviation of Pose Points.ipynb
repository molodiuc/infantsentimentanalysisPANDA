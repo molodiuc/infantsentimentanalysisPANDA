{
 "cells": [
  {
   "cell_type": "code",
   "execution_count": 6,
   "metadata": {},
   "outputs": [
    {
     "name": "stdout",
     "output_type": "stream",
     "text": [
      "44.8998886412873\n",
      "44.170125650715555\n",
      "44.87761134463375\n",
      "45.60701700396552\n",
      "45.2658811910251\n",
      "45.59605246071199\n",
      "44.181444068749045\n",
      "46.184412955021955\n",
      "44.93328387732194\n",
      "45.19955751995809\n",
      "45.58508528016593\n",
      "45.05552130427524\n",
      "45.46427168667722\n",
      "45.09988913511872\n",
      "43.62338822237447\n",
      "45.83666654546336\n",
      "44.58699361921591\n",
      "45.36518488885502\n"
     ]
    }
   ],
   "source": [
    "import statistics\n",
    "import pandas as pd\n",
    "\n",
    "bankdata = pd.read_csv(\"/Users/sofielysenko/Desktop/x_neutral_sd.csv\")\n",
    "\n",
    "for i in range (1,19):\n",
    "    \n",
    "    df = bankdata.loc[:,str(i)].values\n",
    "    print(statistics.stdev(df))"
   ]
  },
  {
   "cell_type": "code",
   "execution_count": 8,
   "metadata": {},
   "outputs": [
    {
     "name": "stdout",
     "output_type": "stream",
     "text": [
      "48.83646178829912\n",
      "47.47630988187688\n",
      "48.30113870293329\n",
      "49.122296363260546\n",
      "49.457052075512955\n",
      "48.590122453025366\n",
      "48.662100242385755\n",
      "46.72258554489466\n",
      "47.57099956906519\n",
      "45.40925015897091\n",
      "46.8081189538738\n",
      "47.11687595755899\n",
      "47.32863826479693\n",
      "49.52776998815917\n",
      "48.2078831727758\n",
      "48.78524367060187\n",
      "46.0\n",
      "48.8978527135906\n"
     ]
    }
   ],
   "source": [
    "bankdata = pd.read_csv(\"/Users/sofielysenko/Desktop/x_pos_sd.csv\")\n",
    "\n",
    "for i in range (1,19):\n",
    "    \n",
    "    df = bankdata.loc[:,str(i)].values\n",
    "    print(statistics.stdev(df))"
   ]
  },
  {
   "cell_type": "code",
   "execution_count": 10,
   "metadata": {},
   "outputs": [
    {
     "name": "stdout",
     "output_type": "stream",
     "text": [
      "24.310491562286437\n",
      "24.758836806279895\n",
      "23.93741840717165\n",
      "24.145392935299274\n",
      "24.20743687382041\n",
      "25.787593916455254\n",
      "24.041630560342615\n",
      "24.413111231467404\n",
      "24.515301344262525\n",
      "25.612496949731394\n",
      "25.39685019840059\n",
      "24.372115213907882\n",
      "24.372115213907882\n",
      "25.41653005427767\n",
      "24.392621835300936\n",
      "24.63736998950984\n",
      "23.874672772626646\n",
      "24.839484696748443\n"
     ]
    }
   ],
   "source": [
    "bankdata = pd.read_csv(\"/Users/sofielysenko/Desktop/x_neg_sd.csv\")\n",
    "\n",
    "for i in range (1,19):\n",
    "    \n",
    "    df = bankdata.loc[:,str(i)].values\n",
    "    print(statistics.stdev(df))"
   ]
  },
  {
   "cell_type": "code",
   "execution_count": 28,
   "metadata": {},
   "outputs": [
    {
     "data": {
      "text/plain": [
       "<matplotlib.legend.Legend at 0x11cc1a630>"
      ]
     },
     "execution_count": 28,
     "metadata": {},
     "output_type": "execute_result"
    },
    {
     "data": {
      "image/png": "[encoded data removed]",
      "text/plain": [
       "<Figure size 432x288 with 1 Axes>"
      ]
     },
     "metadata": {
      "needs_background": "light"
     },
     "output_type": "display_data"
    }
   ],
   "source": [
    "import matplotlib.pyplot as plt\n",
    "\n",
    "\n",
    "plt.title(\"Standard Deviation by Emotion Label (18 Features)\")\n",
    "plt.xlabel('Standard Deviation')\n",
    "plt.ylabel('Features 1-18')\n",
    "#Neutral\n",
    "plt.plot([44.8998886412873,\n",
    "44.170125650715555,\n",
    "44.87761134463375,\n",
    "45.60701700396552,\n",
    "45.2658811910251,\n",
    "45.59605246071199,\n",
    "44.181444068749045,\n",
    "46.184412955021955,\n",
    "44.93328387732194,\n",
    "45.19955751995809,\n",
    "45.58508528016593,\n",
    "45.05552130427524,\n",
    "45.46427168667722,\n",
    "45.09988913511872,\n",
    "43.62338822237447,\n",
    "45.83666654546336,\n",
    "44.58699361921591,\n",
    "45.36518488885502], [1,2,3,4,5,6,7,8,9,10,11,12,13,14,15,16,17,18], 'ro', label = 'Neutral')\n",
    "\n",
    "#Positive\n",
    "\n",
    "plt.plot([48.83646178829912,\n",
    "47.47630988187688,\n",
    "48.30113870293329,\n",
    "49.122296363260546,\n",
    "49.457052075512955,\n",
    "48.590122453025366,\n",
    "48.662100242385755,\n",
    "46.72258554489466,\n",
    "47.57099956906519,\n",
    "45.40925015897091,\n",
    "46.8081189538738,\n",
    "47.11687595755899,\n",
    "47.32863826479693,\n",
    "49.52776998815917,\n",
    "48.2078831727758,\n",
    "48.78524367060187,\n",
    "46.0,\n",
    "48.8978527135906], [1,2,3,4,5,6,7,8,9,10,11,12,13,14,15,16,17,18], 'yo', label = 'Positive')\n",
    "\n",
    "#Negative\n",
    "plt.plot([24.310491562286437,\n",
    "24.758836806279895,\n",
    "23.93741840717165,\n",
    "24.145392935299274,\n",
    "24.20743687382041,\n",
    "25.787593916455254,\n",
    "24.041630560342615,\n",
    "24.413111231467404,\n",
    "24.515301344262525,\n",
    "25.612496949731394,\n",
    "25.39685019840059,\n",
    "24.372115213907882,\n",
    "24.372115213907882,\n",
    "25.41653005427767,\n",
    "24.392621835300936,\n",
    "24.63736998950984,\n",
    "23.874672772626646,\n",
    "24.839484696748443], [1,2,3,4,5,6,7,8,9,10,11,12,13,14,15,16,17,18], 'bo', label = 'Negative')\n",
    "\n",
    "plt.legend()\n",
    "\n",
    "#High standard deviation = high variability\n",
    "#Low standard deviation = low variability (close to mean)"
   ]
  },
  {
   "cell_type": "code",
   "execution_count": null,
   "metadata": {},
   "outputs": [],
   "source": []
  }
 ],
 "metadata": {
  "kernelspec": {
   "display_name": "Python 3",
   "language": "python",
   "name": "python3"
  },
  "language_info": {
   "codemirror_mode": {
    "name": "ipython",
    "version": 3
   },
   "file_extension": ".py",
   "mimetype": "text/x-python",
   "name": "python",
   "nbconvert_exporter": "python",
   "pygments_lexer": "ipython3",
   "version": "3.7.1"
  }
 },
 "nbformat": 4,
 "nbformat_minor": 2
}
