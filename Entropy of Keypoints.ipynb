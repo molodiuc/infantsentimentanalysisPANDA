{
 "cells": [
  {
   "cell_type": "code",
   "execution_count": 25,
   "metadata": {},
   "outputs": [],
   "source": [
    "import pandas as pd\n",
    "import scipy as sc\n",
    "import scipy.stats\n",
    "import scipy\n",
    "\n",
    "bankdata = pd.read_csv(\"/Users/sofielysenko/Desktop/x_neutral_sd.csv\")\n",
    "\n",
    "df = bankdata.loc[:,str(1)].values\n",
    "\n",
    "data = bankdata.T.iloc[0]\n",
    "# Input a pandas series \n",
    "p_data= data.value_counts()/len(data) # calculates the probabilities\n",
    "\n",
    "entropy=sc.stats.entropy(p_data)\n"
   ]
  },
  {
   "cell_type": "code",
   "execution_count": 26,
   "metadata": {},
   "outputs": [
    {
     "data": {
      "text/plain": [
       "4.749263932335295"
      ]
     },
     "execution_count": 26,
     "metadata": {},
     "output_type": "execute_result"
    }
   ],
   "source": [
    "entropy"
   ]
  },
  {
   "cell_type": "code",
   "execution_count": 31,
   "metadata": {},
   "outputs": [
    {
     "name": "stdout",
     "output_type": "stream",
     "text": [
      "4.749263932335295\n",
      "4.7613494707638555\n",
      "4.8141165654366915\n",
      "4.790818637619735\n",
      "4.783988325080732\n",
      "4.781249831231053\n",
      "4.757301740390452\n",
      "4.795587601764302\n",
      "4.772856890092459\n",
      "4.78710460177438\n",
      "4.770569243359365\n",
      "4.8076042117795055\n",
      "4.801262046366148\n",
      "4.795129656387512\n",
      "4.774200024557603\n",
      "4.791192008479472\n",
      "4.778222295959909\n",
      "4.760005557893017\n"
     ]
    }
   ],
   "source": [
    "import statistics\n",
    "import pandas as pd\n",
    "\n",
    "bankdata = pd.read_csv(\"/Users/sofielysenko/Desktop/x_neutral_sd.csv\")\n",
    "\n",
    "for i in range (0,18):\n",
    "    \n",
    "    data = bankdata.T.iloc[i]\n",
    "    p_data= data.value_counts()/len(data) # calculates the probabilities\n",
    "    entropy=sc.stats.entropy(p_data)\n",
    "    print(entropy)\n",
    "    "
   ]
  },
  {
   "cell_type": "code",
   "execution_count": 32,
   "metadata": {},
   "outputs": [
    {
     "name": "stdout",
     "output_type": "stream",
     "text": [
      "4.847644404779065\n",
      "4.82826731874922\n",
      "4.801721826262783\n",
      "4.87303500933796\n",
      "4.850726249685266\n",
      "4.821500770980352\n",
      "4.8165445504431785\n",
      "4.814708414820055\n",
      "4.828786697547976\n",
      "4.772999440648992\n",
      "4.734558281949492\n",
      "4.766637995646426\n",
      "4.784049896457201\n",
      "4.836504320497543\n",
      "4.890812841853412\n",
      "4.889292732816407\n",
      "4.801647744594507\n",
      "4.830776015670718\n"
     ]
    }
   ],
   "source": [
    "import statistics\n",
    "import pandas as pd\n",
    "\n",
    "bankdata = pd.read_csv(\"/Users/sofielysenko/Desktop/x_pos_sd.csv\")\n",
    "\n",
    "for i in range (0,18):\n",
    "    \n",
    "    data = bankdata.T.iloc[i]\n",
    "    p_data= data.value_counts()/len(data) # calculates the probabilities\n",
    "    entropy=sc.stats.entropy(p_data)\n",
    "    print(entropy)\n",
    "    "
   ]
  },
  {
   "cell_type": "code",
   "execution_count": 33,
   "metadata": {},
   "outputs": [
    {
     "name": "stdout",
     "output_type": "stream",
     "text": [
      "4.143558563893964\n",
      "4.177157553493326\n",
      "4.1064974157391605\n",
      "4.097562089950343\n",
      "4.1432835532583345\n",
      "4.127795210842609\n",
      "4.127892072854007\n",
      "4.096671612475586\n",
      "4.181606005103905\n",
      "4.146821480547938\n",
      "4.181150095166181\n",
      "4.13802468315164\n",
      "4.117369444445241\n",
      "4.1291367793204525\n",
      "4.139846387628537\n",
      "4.1682518010194665\n",
      "4.130713880349382\n",
      "4.140857591646088\n"
     ]
    }
   ],
   "source": [
    "import statistics\n",
    "import pandas as pd\n",
    "\n",
    "bankdata = pd.read_csv(\"/Users/sofielysenko/Desktop/x_neg_sd.csv\")\n",
    "\n",
    "for i in range (0,18):\n",
    "    \n",
    "    data = bankdata.T.iloc[i]\n",
    "    p_data= data.value_counts()/len(data) # calculates the probabilities\n",
    "    entropy=sc.stats.entropy(p_data)\n",
    "    print(entropy)\n",
    "    "
   ]
  },
  {
   "cell_type": "code",
   "execution_count": 37,
   "metadata": {},
   "outputs": [
    {
     "data": {
      "text/plain": [
       "<matplotlib.legend.Legend at 0x1a21d8d860>"
      ]
     },
     "execution_count": 37,
     "metadata": {},
     "output_type": "execute_result"
    },
    {
     "data": {
      "image/png": "[encoded data removed]",
      "text/plain": [
       "<Figure size 432x288 with 1 Axes>"
      ]
     },
     "metadata": {
      "needs_background": "light"
     },
     "output_type": "display_data"
    }
   ],
   "source": [
    "import matplotlib.pyplot as plt\n",
    "\n",
    "\n",
    "plt.title(\"Entropy by Emotion Label (18 Features)\")\n",
    "plt.xlabel('Entropy')\n",
    "plt.ylabel('Features 1-18')\n",
    "#Neutral\n",
    "plt.plot([4.749263932335295,\n",
    "4.7613494707638555,\n",
    "4.8141165654366915,\n",
    "4.790818637619735,\n",
    "4.783988325080732,\n",
    "4.781249831231053,\n",
    "4.757301740390452,\n",
    "4.795587601764302,\n",
    "4.772856890092459,\n",
    "4.78710460177438,\n",
    "4.770569243359365,\n",
    "4.8076042117795055,\n",
    "4.801262046366148,\n",
    "4.795129656387512,\n",
    "4.774200024557603,\n",
    "4.791192008479472,\n",
    "4.778222295959909,\n",
    "4.760005557893017], [1,2,3,4,5,6,7,8,9,10,11,12,13,14,15,16,17,18], 'ro', label = 'Neutral')\n",
    "\n",
    "#Positive\n",
    "\n",
    "plt.plot([4.847644404779065,\n",
    "4.82826731874922,\n",
    "4.801721826262783,\n",
    "4.87303500933796,\n",
    "4.850726249685266,\n",
    "4.821500770980352,\n",
    "4.8165445504431785,\n",
    "4.814708414820055,\n",
    "4.828786697547976,\n",
    "4.772999440648992,\n",
    "4.734558281949492,\n",
    "4.766637995646426,\n",
    "4.784049896457201,\n",
    "4.836504320497543,\n",
    "4.890812841853412,\n",
    "4.889292732816407,\n",
    "4.801647744594507,\n",
    "4.830776015670718], [1,2,3,4,5,6,7,8,9,10,11,12,13,14,15,16,17,18], 'yo', label = 'Positive')\n",
    "\n",
    "#Negative\n",
    "plt.plot([4.143558563893964,\n",
    "4.177157553493326,\n",
    "4.1064974157391605,\n",
    "4.097562089950343,\n",
    "4.1432835532583345,\n",
    "4.127795210842609,\n",
    "4.127892072854007,\n",
    "4.096671612475586,\n",
    "4.181606005103905,\n",
    "4.146821480547938,\n",
    "4.181150095166181,\n",
    "4.13802468315164,\n",
    "4.117369444445241,\n",
    "4.1291367793204525,\n",
    "4.139846387628537,\n",
    "4.1682518010194665,\n",
    "4.130713880349382,\n",
    "4.140857591646088], [1,2,3,4,5,6,7,8,9,10,11,12,13,14,15,16,17,18], 'bo', label = 'Negative')\n",
    "\n",
    "plt.legend()"
   ]
  },
  {
   "cell_type": "code",
   "execution_count": null,
   "metadata": {},
   "outputs": [],
   "source": []
  }
 ],
 "metadata": {
  "kernelspec": {
   "display_name": "Python 3",
   "language": "python",
   "name": "python3"
  },
  "language_info": {
   "codemirror_mode": {
    "name": "ipython",
    "version": 3
   },
   "file_extension": ".py",
   "mimetype": "text/x-python",
   "name": "python",
   "nbconvert_exporter": "python",
   "pygments_lexer": "ipython3",
   "version": "3.7.1"
  }
 },
 "nbformat": 4,
 "nbformat_minor": 2
}
